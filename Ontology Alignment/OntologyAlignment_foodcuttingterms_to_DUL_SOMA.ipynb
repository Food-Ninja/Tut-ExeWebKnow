{
 "cells": [
  {
   "cell_type": "markdown",
   "id": "4fd86cdb-53c6-456f-8115-1a5ee877c8ab",
   "metadata": {},
   "source": [
    "## <b>Ontology Alignment<b>\n",
    "\n",
    "In this Tutorial we will align inspect the DUL and SOMA ontology so we can align our food cutting terms\n",
    "\n",
    "Let us first install owlready"
   ]
  },
  {
   "cell_type": "code",
   "execution_count": null,
   "id": "875f560f-c103-4b16-8449-70b359676a82",
   "metadata": {},
   "outputs": [],
   "source": [
    "!pip install owlready2"
   ]
  },
  {
   "cell_type": "code",
   "execution_count": null,
   "id": "6eb91b9b",
   "metadata": {},
   "outputs": [],
   "source": [
    "# Use this cell if the 'owlready2' module cannot be found in the steps below\n",
    "# Adapt the path accordingly for your USER\n",
    "import sys\n",
    "modulename = 'owlready2'\n",
    "if modulename not in sys.modules:\n",
    "    sys.path.append('/home/USER/.local/lib/python3.13/site-packages')"
   ]
  },
  {
   "cell_type": "markdown",
   "id": "43348495-873d-40fd-b85a-748a96c8a80f",
   "metadata": {},
   "source": [
    "### <b> Let us first load an upper ontology, here SOMA which is based on DUL, and list its content (i.e. main classes)</b>"
   ]
  },
  {
   "cell_type": "code",
   "execution_count": null,
   "id": "3bc80499-fa22-47b8-99de-a430405dc258",
   "metadata": {},
   "outputs": [],
   "source": [
    "from owlready2 import *\n",
    "\n",
    "onto = get_ontology(\"http://www.ease-crc.org/ont/SOMA.owl\").load()\n",
    "\n",
    "list(Thing.subclasses())"
   ]
  },
  {
   "cell_type": "markdown",
   "id": "bbeb8f47-86bd-4990-88a2-661f18031408",
   "metadata": {},
   "source": [
    "### <b> To get more structure, let us use a SPARQL query for listing class relations </b>\n",
    "\n",
    "we will use the loaded ontology (onto) for this and just perform the SPQRL query here"
   ]
  },
  {
   "cell_type": "code",
   "execution_count": null,
   "id": "0e01374e-2141-431d-bd84-3b052179b764",
   "metadata": {},
   "outputs": [],
   "source": [
    "dul = get_namespace(\"http://www.ontologydesignpatterns.org/ont/dul/DUL.owl#\")\n",
    "list(dul.Entity.subclasses())"
   ]
  },
  {
   "cell_type": "markdown",
   "id": "ac029d05-7494-493f-b20a-154ee3db48a4",
   "metadata": {},
   "source": [
    "## <b>Let us look at DUL in Protege</b>"
   ]
  },
  {
   "cell_type": "markdown",
   "id": "b94e475b-5b40-48b2-9d64-ebfdd52aae0e",
   "metadata": {},
   "source": [
    "#### <b> Now that you have an idea of the structure of DUL, you can additionally access the ontology to get the class comment (rdfs.comment annotation property) and see the class definitions </b>"
   ]
  },
  {
   "cell_type": "code",
   "execution_count": null,
   "id": "fb0d5ae3-c907-4422-bf66-2e60901f78ee",
   "metadata": {},
   "outputs": [],
   "source": [
    "dul = get_namespace(\"http://www.ontologydesignpatterns.org/ont/dul/DUL.owl#\")\n",
    "\n",
    "print(dul.PhysicalArtifact.comment)"
   ]
  },
  {
   "cell_type": "markdown",
   "id": "7a13fa54-6d12-465a-ae3e-adbdada1937d",
   "metadata": {},
   "source": [
    "### <b> With the given information we can align our first term to SOMA: food object\n",
    "\n",
    "I propose to align food objects as a subclass of the DUL PhysicalObject class, as done in the following"
   ]
  },
  {
   "cell_type": "code",
   "execution_count": null,
   "id": "897b7c2b-5e7e-4988-9b2b-70a258a0fe3a",
   "metadata": {},
   "outputs": [],
   "source": [
    "with onto: \n",
    "    class FoodObject(dul.PhysicalObject):\n",
    "        pass\n",
    "\n",
    "list(dul.PhysicalObject.subclasses())"
   ]
  },
  {
   "cell_type": "markdown",
   "id": "b4c53650-2ef0-4ff1-81ec-d83d16a6919a",
   "metadata": {},
   "source": [
    "see that the SOMA.FoodObject class has been added"
   ]
  },
  {
   "cell_type": "markdown",
   "id": "15290863-03f4-4574-8e8d-4a53473edfb9",
   "metadata": {},
   "source": [
    "### <b> In a second step we want to also inspect SOMA for how to align our cutting tasks</b>\n",
    "\n",
    "Note: SOMA is based on DUL, but extends it for the context of household applications"
   ]
  },
  {
   "cell_type": "code",
   "execution_count": null,
   "id": "6758de98-a67f-40c6-afbf-e13542861941",
   "metadata": {},
   "outputs": [],
   "source": [
    "list(dul.Event.subclasses())"
   ]
  },
  {
   "cell_type": "code",
   "execution_count": null,
   "id": "0116dc27-48f3-4d57-9492-7f2b9120fbab",
   "metadata": {},
   "outputs": [],
   "source": [
    "list(dul.Action.subclasses())"
   ]
  },
  {
   "cell_type": "code",
   "execution_count": null,
   "id": "fffc8a3b-4d8b-45f2-8f26-fc33e99e4c5e",
   "metadata": {},
   "outputs": [],
   "source": [
    "print(dul.Action.comment)"
   ]
  },
  {
   "cell_type": "code",
   "execution_count": null,
   "id": "ccbee581-8fe8-47b9-a95e-93826842e9e4",
   "metadata": {},
   "outputs": [],
   "source": [
    "soma = get_namespace(\"http://www.ease-crc.org/ont/SOMA.owl#\")\n",
    "\n",
    "list(soma.PhysicalAction.subclasses())"
   ]
  },
  {
   "cell_type": "code",
   "execution_count": null,
   "id": "eca630fc-9d28-451e-b282-00883030b9ab",
   "metadata": {},
   "outputs": [],
   "source": [
    "print(soma.PhysicalAction.comment)"
   ]
  },
  {
   "cell_type": "markdown",
   "id": "2dcf3f58-e7e9-4a48-9ecb-6a10bb647b34",
   "metadata": {},
   "source": [
    "### <b> With the given information we can align our second term to SOMA: cutting action\n",
    "\n",
    "I propose to align cutting actions as a subclass of the SOMA PhysicalAction class, as done in the following"
   ]
  },
  {
   "cell_type": "code",
   "execution_count": null,
   "id": "fcc41b16-e93a-4eab-a216-41a183ce6cbe",
   "metadata": {},
   "outputs": [],
   "source": [
    "with onto: \n",
    "    class CuttingAction(soma.PhysicalAction):\n",
    "        pass\n",
    "\n",
    "list(soma.PhysicalAction.subclasses())"
   ]
  },
  {
   "cell_type": "markdown",
   "id": "1e6f8cbc-e32e-4a1b-a105-7cf1e5cee023",
   "metadata": {},
   "source": [
    "### Last but not least, saving the aligned file"
   ]
  },
  {
   "cell_type": "code",
   "execution_count": null,
   "id": "cf1a622e-df60-4179-b1a6-747be3a817ad",
   "metadata": {},
   "outputs": [],
   "source": [
    "onto.save(file = \"AlignedOntology.owl\", format = \"rdfxml\")"
   ]
  },
  {
   "cell_type": "code",
   "execution_count": null,
   "id": "62594882-0f1b-4bb6-8fe9-8f84f440559f",
   "metadata": {},
   "outputs": [],
   "source": []
  }
 ],
 "metadata": {
  "kernelspec": {
   "display_name": "Python 3 (ipykernel)",
   "language": "python",
   "name": "python3"
  },
  "language_info": {
   "codemirror_mode": {
    "name": "ipython",
    "version": 3
   },
   "file_extension": ".py",
   "mimetype": "text/x-python",
   "name": "python",
   "nbconvert_exporter": "python",
   "pygments_lexer": "ipython3",
   "version": "3.8.10"
  }
 },
 "nbformat": 4,
 "nbformat_minor": 5
}
